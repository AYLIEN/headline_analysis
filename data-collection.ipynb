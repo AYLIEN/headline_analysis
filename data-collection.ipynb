{
 "metadata": {
  "name": "",
  "signature": "sha256:d6ca867835a0cee9af32263546fd63eb03633da86e18b10d28c830aded278d7d"
 },
 "nbformat": 3,
 "nbformat_minor": 0,
 "worksheets": [
  {
   "cells": [
    {
     "cell_type": "code",
     "collapsed": false,
     "input": [
      "import sys\n",
      "import json\n",
      "\n",
      "try:\n",
      "  from urllib.parse import urlencode\n",
      "  from urllib.request import Request, urlopen\n",
      "except ImportError:\n",
      "  from urllib import urlencode\n",
      "  from urllib2 import Request, urlopen\n",
      "\n",
      "APP_ID  = 'YOUR_APP_ID'\n",
      "APP_KEY = 'YOUR_APP_KEY'\n",
      "\n",
      "def call(endpoint, params):\n",
      "  protocol_host_path = 'https://api.newsapi.aylien.com/api/v1'\n",
      "  headers = {\n",
      "      'X-AYLIEN-NewsAPI-Application-ID': APP_ID,\n",
      "      'X-AYLIEN-NewsAPI-Application-Key': APP_KEY}\n",
      "  query_string = urlencode([(k, v) for k, vs in params.items() for v in isinstance(vs, list) and vs or [vs]])\n",
      "  url = protocol_host_path + \"/\" + endpoint + \"?\" + query_string\n",
      "  request = Request(url)\n",
      "  for k, v in headers.items():\n",
      "    request.add_header(k, v)\n",
      "  response = urlopen(request)\n",
      "  return json.loads(response.read().decode('utf-8'))\n",
      "\n",
      "def getStoriesForAuthor(author, count=50, pages=1, prevResults=[], cursor=\"*\"):\n",
      "    if pages >= 1:\n",
      "        pages = pages - 1\n",
      "        parameters = {\n",
      "            'author.name': author,\n",
      "            'per_page': count,\n",
      "            'return[]': \"title\",\n",
      "            'language': \"en\",\n",
      "            'cursor': cursor\n",
      "        }\n",
      "        results = call('stories', parameters)\n",
      "        return getStoriesForAuthor(author, count, pages, prevResults + results[\"stories\"], results[\"next_page_cursor\"])\n",
      "    else:\n",
      "        return prevResults"
     ],
     "language": "python",
     "metadata": {},
     "outputs": [],
     "prompt_number": 51
    },
    {
     "cell_type": "code",
     "collapsed": false,
     "input": [
      "author1 = getStoriesForAuthor(\"Akin Oyedele\", count=100, pages=7)"
     ],
     "language": "python",
     "metadata": {},
     "outputs": [
      {
       "output_type": "stream",
       "stream": "stdout",
       "text": [
        "Akin Oyedele 6 0 *\n",
        "Akin Oyedele"
       ]
      },
      {
       "output_type": "stream",
       "stream": "stdout",
       "text": [
        " 5 100 AoJw9p6r+9MCLVN0b3J5IDM5OTM3ODk=\n",
        "Akin Oyedele"
       ]
      },
      {
       "output_type": "stream",
       "stream": "stdout",
       "text": [
        " 4 200 AoJw18He3tMCLVN0b3J5IDI3MTkzNzY=\n",
        "Akin Oyedele"
       ]
      },
      {
       "output_type": "stream",
       "stream": "stdout",
       "text": [
        " 3 300 AoJ46be7zNMCLVN0b3J5IDIwMDIyNzM=\n",
        "Akin Oyedele"
       ]
      },
      {
       "output_type": "stream",
       "stream": "stdout",
       "text": [
        " 2 400 AoJwqsGIqdMCLFN0b3J5IDg1OTk3OQ==\n",
        "Akin Oyedele"
       ]
      },
      {
       "output_type": "stream",
       "stream": "stdout",
       "text": [
        " 1 500 AoJ4mrzb9dICLFN0b3J5IDY2MzM0MQ==\n",
        "Akin Oyedele"
       ]
      },
      {
       "output_type": "stream",
       "stream": "stdout",
       "text": [
        " 0 600 AoJ4yLznwdICLFN0b3J5IDQ2MjE4OQ==\n",
        "else 700\n"
       ]
      }
     ],
     "prompt_number": 64
    },
    {
     "cell_type": "code",
     "collapsed": false,
     "input": [
      "author2 = getStoriesForAuthor(\"Carly Ledbetter\", count=100, pages=7)"
     ],
     "language": "python",
     "metadata": {},
     "outputs": [
      {
       "output_type": "stream",
       "stream": "stdout",
       "text": [
        "Carly Ledbetter 6 0 *\n",
        "Carly Ledbetter"
       ]
      },
      {
       "output_type": "stream",
       "stream": "stdout",
       "text": [
        " 5 100 AoJ4k7WZ5NMCLVN0b3J5IDI5ODA2NTc=\n",
        "Carly Ledbetter"
       ]
      },
      {
       "output_type": "stream",
       "stream": "stdout",
       "text": [
        " 4 200 AoJwmIadxdMCLVN0b3J5IDE3NzgwNjI=\n",
        "Carly Ledbetter"
       ]
      },
      {
       "output_type": "stream",
       "stream": "stdout",
       "text": [
        " 3 300 AoJ4ta6FrtMCLFN0b3J5IDg4NzYyNg==\n",
        "Carly Ledbetter"
       ]
      },
      {
       "output_type": "stream",
       "stream": "stdout",
       "text": [
        " 2 400 AoJ4r+HGhdMCLFN0b3J5IDcyMjk4Mw==\n",
        "Carly Ledbetter"
       ]
      },
      {
       "output_type": "stream",
       "stream": "stdout",
       "text": [
        " 1 500 AoJw96Tm5dICLFN0b3J5IDYwNDc2MQ==\n",
        "Carly Ledbetter"
       ]
      },
      {
       "output_type": "stream",
       "stream": "stdout",
       "text": [
        " 0 600 AoJw2aOmxNICLFN0b3J5IDQ3NDQ0MQ==\n",
        "else 700\n"
       ]
      }
     ],
     "prompt_number": 70
    },
    {
     "cell_type": "code",
     "collapsed": false,
     "input": [
      "import cPickle as pickle\n",
      "pickle.dump( author1, open( \"author1.p\", \"wb\" ) )\n",
      "pickle.dump( author2, open( \"author2.p\", \"wb\" ) )"
     ],
     "language": "python",
     "metadata": {},
     "outputs": [],
     "prompt_number": 72
    },
    {
     "cell_type": "code",
     "collapsed": false,
     "input": [],
     "language": "python",
     "metadata": {},
     "outputs": []
    }
   ],
   "metadata": {}
  }
 ]
}
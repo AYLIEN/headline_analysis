{
 "cells": [
  {
   "cell_type": "code",
   "execution_count": 1,
   "metadata": {
    "collapsed": false
   },
   "outputs": [],
   "source": [
    "import sys\n",
    "import json\n",
    "\n",
    "try:\n",
    "  from urllib.parse import urlencode\n",
    "  from urllib.request import Request, urlopen\n",
    "except ImportError:\n",
    "  from urllib import urlencode\n",
    "  from urllib2 import Request, urlopen\n",
    "\n",
    "APP_ID  = 'YOUR_APP_ID'\n",
    "APP_KEY = 'YOUR_APP_KEY'\n",
    "\n",
    "def call(endpoint, params):\n",
    "  protocol_host_path = 'https://api.newsapi.aylien.com/api/v1'\n",
    "  headers = {\n",
    "      'X-AYLIEN-NewsAPI-Application-ID': APP_ID,\n",
    "      'X-AYLIEN-NewsAPI-Application-Key': APP_KEY}\n",
    "  query_string = urlencode([(k, v) for k, vs in params.items() for v in isinstance(vs, list) and vs or [vs]])\n",
    "  url = protocol_host_path + \"/\" + endpoint + \"?\" + query_string\n",
    "  request = Request(url)\n",
    "  for k, v in headers.items():\n",
    "    request.add_header(k, v)\n",
    "  response = urlopen(request)\n",
    "  return json.loads(response.read().decode('utf-8'))\n",
    "\n",
    "def getStoriesForAuthor(author, count=50, pages=1, prevResults=[], cursor=\"*\"):\n",
    "    if pages >= 1:\n",
    "        pages = pages - 1\n",
    "        parameters = {\n",
    "            'author.name': author,\n",
    "            'per_page': count,\n",
    "            'return[]': \"title\",\n",
    "            'language': \"en\",\n",
    "            'cursor': cursor\n",
    "        }\n",
    "        results = call('stories', parameters)\n",
    "        return getStoriesForAuthor(author, count, pages, prevResults + results[\"stories\"], results[\"next_page_cursor\"])\n",
    "    else:\n",
    "        return prevResults"
   ]
  },
  {
   "cell_type": "code",
   "execution_count": 64,
   "metadata": {
    "collapsed": false
   },
   "outputs": [
    {
     "name": "stdout",
     "output_type": "stream",
     "text": [
      "Akin Oyedele 6 0 *\n",
      "Akin Oyedele 5 100 AoJw9p6r+9MCLVN0b3J5IDM5OTM3ODk=\n",
      "Akin Oyedele 4 200 AoJw18He3tMCLVN0b3J5IDI3MTkzNzY=\n",
      "Akin Oyedele 3 300 AoJ46be7zNMCLVN0b3J5IDIwMDIyNzM=\n",
      "Akin Oyedele 2 400 AoJwqsGIqdMCLFN0b3J5IDg1OTk3OQ==\n",
      "Akin Oyedele 1 500 AoJ4mrzb9dICLFN0b3J5IDY2MzM0MQ==\n",
      "Akin Oyedele 0 600 AoJ4yLznwdICLFN0b3J5IDQ2MjE4OQ==\n",
      "else 700\n"
     ]
    }
   ],
   "source": [
    "author1 = getStoriesForAuthor(\"Akin Oyedele\", count=100, pages=7)"
   ]
  },
  {
   "cell_type": "code",
   "execution_count": 70,
   "metadata": {
    "collapsed": false
   },
   "outputs": [
    {
     "name": "stdout",
     "output_type": "stream",
     "text": [
      "Carly Ledbetter 6 0 *\n",
      "Carly Ledbetter 5 100 AoJ4k7WZ5NMCLVN0b3J5IDI5ODA2NTc=\n",
      "Carly Ledbetter 4 200 AoJwmIadxdMCLVN0b3J5IDE3NzgwNjI=\n",
      "Carly Ledbetter 3 300 AoJ4ta6FrtMCLFN0b3J5IDg4NzYyNg==\n",
      "Carly Ledbetter 2 400 AoJ4r+HGhdMCLFN0b3J5IDcyMjk4Mw==\n",
      "Carly Ledbetter 1 500 AoJw96Tm5dICLFN0b3J5IDYwNDc2MQ==\n",
      "Carly Ledbetter 0 600 AoJw2aOmxNICLFN0b3J5IDQ3NDQ0MQ==\n",
      "else 700\n"
     ]
    }
   ],
   "source": [
    "author2 = getStoriesForAuthor(\"Carly Ledbetter\", count=100, pages=7)"
   ]
  },
  {
   "cell_type": "code",
   "execution_count": 72,
   "metadata": {
    "collapsed": false
   },
   "outputs": [],
   "source": [
    "import cPickle as pickle\n",
    "pickle.dump( author1, open( \"author1.p\", \"wb\" ) )\n",
    "pickle.dump( author2, open( \"author2.p\", \"wb\" ) )"
   ]
  },
  {
   "cell_type": "code",
   "execution_count": null,
   "metadata": {
    "collapsed": false
   },
   "outputs": [],
   "source": []
  }
 ],
 "metadata": {
  "kernelspec": {
   "display_name": "Python 2",
   "language": "python",
   "name": "python2"
  },
  "language_info": {
   "codemirror_mode": {
    "name": "ipython",
    "version": 2
   },
   "file_extension": ".py",
   "mimetype": "text/x-python",
   "name": "python",
   "nbconvert_exporter": "python",
   "pygments_lexer": "ipython2",
   "version": "2.7.10"
  }
 },
 "nbformat": 4,
 "nbformat_minor": 0
}
